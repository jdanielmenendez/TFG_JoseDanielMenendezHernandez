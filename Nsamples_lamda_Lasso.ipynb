{
 "cells": [
  {
   "cell_type": "code",
   "execution_count": 15,
   "metadata": {},
   "outputs": [],
   "source": [
    "import numpy as np\n",
    "from sklearn.datasets import make_regression\n",
    "from sklearn.model_selection import train_test_split\n",
    "from sklearn.linear_model import Lasso\n",
    "from sklearn.metrics import r2_score\n",
    "from statistics import mean\n",
    "import matplotlib.pyplot as plt"
   ]
  },
  {
   "cell_type": "markdown",
   "metadata": {},
   "source": [
    "Definimos las constantes"
   ]
  },
  {
   "cell_type": "code",
   "execution_count": 16,
   "metadata": {},
   "outputs": [],
   "source": [
    "# MACROS\n",
    "NDATASETS = 10\n",
    "NSAMPLES = 50\n",
    "NLAMDAS = 40"
   ]
  },
  {
   "cell_type": "markdown",
   "metadata": {},
   "source": [
    "Creamos las listas que usaremos a la hora de generar los datos"
   ]
  },
  {
   "cell_type": "code",
   "execution_count": 17,
   "metadata": {},
   "outputs": [],
   "source": [
    "DataMatrix = [ []*2 for i in range(NDATASETS)]\n",
    "matrixDatasetTraintest =  [ []*4 for i in range(NDATASETS)]\n",
    "matrixXYtrainparts =  [[[]*2 for j in range(NSAMPLES)] for i in range(NDATASETS)]"
   ]
  },
  {
   "cell_type": "code",
   "execution_count": 18,
   "metadata": {},
   "outputs": [],
   "source": [
    "for i in range(NDATASETS):\n",
    "    X, y = make_regression(n_samples=10000, n_features=1000, noise=700, n_informative=500)\n",
    "    DataMatrix[i].extend((X, y))"
   ]
  },
  {
   "cell_type": "code",
   "execution_count": 19,
   "metadata": {},
   "outputs": [],
   "source": [
    "for i in range(NDATASETS):\n",
    "    X_train, X_test, y_train, y_test = train_test_split(DataMatrix[i][0], DataMatrix[i][1], random_state=4, test_size=0.34464, shuffle=True)\n",
    "    matrixDatasetTraintest[i].extend((X_train, X_test, y_train, y_test))\n"
   ]
  },
  {
   "cell_type": "code",
   "execution_count": 20,
   "metadata": {},
   "outputs": [],
   "source": [
    "listTrainSamples = np.logspace(6, 8, num=NSAMPLES, base=3)\n",
    "listTrainSamples = [round(item, 0) for item in listTrainSamples]"
   ]
  },
  {
   "cell_type": "code",
   "execution_count": 21,
   "metadata": {},
   "outputs": [],
   "source": [
    "for i in range(NDATASETS):\n",
    "    for idx, el in enumerate(listTrainSamples):\n",
    "        XtrainDivided = matrixDatasetTraintest[i][0][0:int(el)]\n",
    "        \n",
    "        YtrainDivided = matrixDatasetTraintest[i][2][0:int(el)]\n",
    "        matrixXYtrainparts[i][idx].extend((XtrainDivided, YtrainDivided))"
   ]
  },
  {
   "cell_type": "code",
   "execution_count": 22,
   "metadata": {},
   "outputs": [],
   "source": [
    "alpha_dict ={'alpha':np.logspace(0, 3, num=NLAMDAS, base=10)}"
   ]
  },
  {
   "cell_type": "markdown",
   "metadata": {},
   "source": [
    "<h1> Lasso Regression </h1>\n"
   ]
  },
  {
   "cell_type": "code",
   "execution_count": 23,
   "metadata": {},
   "outputs": [
    {
     "name": "stderr",
     "output_type": "stream",
     "text": [
      "d:\\Universidad\\TFG\\Codigo\\codigo-env\\lib\\site-packages\\sklearn\\linear_model\\_coordinate_descent.py:648: ConvergenceWarning: Objective did not converge. You might want to increase the number of iterations, check the scale of the features or consider increasing regularisation. Duality gap: 2.139e+05, tolerance: 1.582e+05\n",
      "  model = cd_fast.enet_coordinate_descent(\n",
      "d:\\Universidad\\TFG\\Codigo\\codigo-env\\lib\\site-packages\\sklearn\\linear_model\\_coordinate_descent.py:648: ConvergenceWarning: Objective did not converge. You might want to increase the number of iterations, check the scale of the features or consider increasing regularisation. Duality gap: 1.595e+05, tolerance: 1.554e+05\n",
      "  model = cd_fast.enet_coordinate_descent(\n",
      "d:\\Universidad\\TFG\\Codigo\\codigo-env\\lib\\site-packages\\sklearn\\linear_model\\_coordinate_descent.py:648: ConvergenceWarning: Objective did not converge. You might want to increase the number of iterations, check the scale of the features or consider increasing regularisation. Duality gap: 2.690e+05, tolerance: 1.590e+05\n",
      "  model = cd_fast.enet_coordinate_descent(\n",
      "d:\\Universidad\\TFG\\Codigo\\codigo-env\\lib\\site-packages\\sklearn\\linear_model\\_coordinate_descent.py:648: ConvergenceWarning: Objective did not converge. You might want to increase the number of iterations, check the scale of the features or consider increasing regularisation. Duality gap: 2.315e+05, tolerance: 1.590e+05\n",
      "  model = cd_fast.enet_coordinate_descent(\n",
      "d:\\Universidad\\TFG\\Codigo\\codigo-env\\lib\\site-packages\\sklearn\\linear_model\\_coordinate_descent.py:648: ConvergenceWarning: Objective did not converge. You might want to increase the number of iterations, check the scale of the features or consider increasing regularisation. Duality gap: 2.461e+05, tolerance: 1.590e+05\n",
      "  model = cd_fast.enet_coordinate_descent(\n",
      "d:\\Universidad\\TFG\\Codigo\\codigo-env\\lib\\site-packages\\sklearn\\linear_model\\_coordinate_descent.py:648: ConvergenceWarning: Objective did not converge. You might want to increase the number of iterations, check the scale of the features or consider increasing regularisation. Duality gap: 1.999e+05, tolerance: 1.590e+05\n",
      "  model = cd_fast.enet_coordinate_descent(\n",
      "d:\\Universidad\\TFG\\Codigo\\codigo-env\\lib\\site-packages\\sklearn\\linear_model\\_coordinate_descent.py:648: ConvergenceWarning: Objective did not converge. You might want to increase the number of iterations, check the scale of the features or consider increasing regularisation. Duality gap: 3.005e+05, tolerance: 1.682e+05\n",
      "  model = cd_fast.enet_coordinate_descent(\n",
      "d:\\Universidad\\TFG\\Codigo\\codigo-env\\lib\\site-packages\\sklearn\\linear_model\\_coordinate_descent.py:648: ConvergenceWarning: Objective did not converge. You might want to increase the number of iterations, check the scale of the features or consider increasing regularisation. Duality gap: 2.227e+05, tolerance: 1.682e+05\n",
      "  model = cd_fast.enet_coordinate_descent(\n",
      "d:\\Universidad\\TFG\\Codigo\\codigo-env\\lib\\site-packages\\sklearn\\linear_model\\_coordinate_descent.py:648: ConvergenceWarning: Objective did not converge. You might want to increase the number of iterations, check the scale of the features or consider increasing regularisation. Duality gap: 1.768e+05, tolerance: 1.682e+05\n",
      "  model = cd_fast.enet_coordinate_descent(\n",
      "d:\\Universidad\\TFG\\Codigo\\codigo-env\\lib\\site-packages\\sklearn\\linear_model\\_coordinate_descent.py:648: ConvergenceWarning: Objective did not converge. You might want to increase the number of iterations, check the scale of the features or consider increasing regularisation. Duality gap: 1.855e+05, tolerance: 1.791e+05\n",
      "  model = cd_fast.enet_coordinate_descent(\n"
     ]
    }
   ],
   "source": [
    "lasso_regressors = []\n",
    "#matrixRidgeResults =  [[[[]*2 for i in range(25)] for j in range(NSAMPLES)] for i in range(NDATASETS)]\n",
    "matrixLassoResults = np.zeros([NDATASETS,NSAMPLES,NLAMDAS,2])\n",
    "\n",
    "\n",
    "# Creamos los diferentes ridge regressors\n",
    "for alpha in alpha_dict.get('alpha'):\n",
    "    lasso_regressors.append(Lasso(alpha=float(alpha)))\n",
    "\n",
    "\n",
    "for i in range(NDATASETS):\n",
    "    for j in range(len(listTrainSamples)):\n",
    "        for idx, lasso_regressor in enumerate(lasso_regressors):\n",
    "            lasso_regressor.fit(matrixXYtrainparts[i][j][0], matrixXYtrainparts[i][j][1])\n",
    "            y_pred = lasso_regressor.predict(matrixDatasetTraintest[i][1])\n",
    "            \n",
    "            matrixLassoResults[i][j][idx][0] = lasso_regressor.alpha\n",
    "            matrixLassoResults[i][j][idx][1] = r2_score(matrixDatasetTraintest[i][3], y_pred)"
   ]
  },
  {
   "cell_type": "code",
   "execution_count": 24,
   "metadata": {},
   "outputs": [],
   "source": [
    "np.save('matrixLassoResults_NSamples', matrixLassoResults)"
   ]
  },
  {
   "cell_type": "code",
   "execution_count": 25,
   "metadata": {},
   "outputs": [],
   "source": [
    "matrixLassoResults = np.load('matrixLassoResults_NSamples.npy')"
   ]
  },
  {
   "cell_type": "code",
   "execution_count": 26,
   "metadata": {},
   "outputs": [
    {
     "data": {
      "image/png": "[encoded data removed]",
      "text/plain": [
       "<Figure size 640x480 with 1 Axes>"
      ]
     },
     "metadata": {},
     "output_type": "display_data"
    }
   ],
   "source": [
    "alphas = alpha_dict.get('alpha')\n",
    "\n",
    "#r2_scores = [ []*25 for i in range(NSAMPLES)]\n",
    "r2_scores = np.zeros([NSAMPLES, NLAMDAS])\n",
    "\n",
    "#MatrixRidgeResultsInvertida =  [[[]*2 for j in range(NSAMPLES)] for i in range(25)]\n",
    "MatrixLassoResultsInvertida = np.zeros([NLAMDAS, NSAMPLES, 2])\n",
    "\n",
    "for i_sample in range(NSAMPLES):\n",
    "    for i_alphavalue in range(25):\n",
    "        for i_dataset in range(NDATASETS):\n",
    "            listR2ScoreDataset = []\n",
    "            listR2ScoreDataset.append(matrixLassoResults[i_dataset][i_sample][i_alphavalue][1])\n",
    "            MatrixLassoResultsInvertida[i_alphavalue][i_sample][0] = matrixLassoResults[i_dataset][i_sample][i_alphavalue][0]\n",
    "            MatrixLassoResultsInvertida[i_alphavalue][i_sample][1] = mean(listR2ScoreDataset)\n",
    "\n",
    "\n",
    "\n",
    "for idx_sample in range(NSAMPLES):\n",
    "    for idx_alphavalue in range(NLAMDAS):\n",
    "        r2_scores[idx_sample][idx_alphavalue] = MatrixLassoResultsInvertida[idx_alphavalue][idx_sample][1]\n",
    "\n",
    "\n",
    "f, ax = plt.subplots(1)\n",
    "\n",
    "\n",
    "plt.ylim([729,7000])\n",
    "plt.xscale('log')\n",
    "plt.yscale('log')\n",
    "plt.title(\"Lasso Regression\")\n",
    "plt.xlabel(\"Optimal Lamda\")\n",
    "plt.ylabel(\"N Samples\")\n",
    "for i_sample in range(NSAMPLES):\n",
    "    plt.plot(alphas, r2_scores[i_sample])\n",
    "    maxValue = np.amax(r2_scores[i_sample])\n",
    "    i_maxValue = np.where(r2_scores[i_sample] == maxValue)\n",
    "    print(alphas[i_maxValue])\n",
    "    plt.plot(alphas[i_maxValue], listTrainSamples[i_sample], marker = \"o\", markeredgecolor = \"black\", markerfacecolor=\"white\")\n",
    "plt.show(f)"
   ]
  }
 ],
 "metadata": {
  "kernelspec": {
   "display_name": "Python 3.9.13 ('codigo-env': venv)",
   "language": "python",
   "name": "python3"
  },
  "language_info": {
   "codemirror_mode": {
    "name": "ipython",
    "version": 3
   },
   "file_extension": ".py",
   "mimetype": "text/x-python",
   "name": "python",
   "nbconvert_exporter": "python",
   "pygments_lexer": "ipython3",
   "version": "3.9.13"
  },
  "orig_nbformat": 4,
  "vscode": {
   "interpreter": {
    "hash": "ea3fcb7f78e3e81f9c5511b3ef6fc2341d7da8dfc3b5e430e94b390ce62f6581"
   }
  }
 },
 "nbformat": 4,
 "nbformat_minor": 2
}
