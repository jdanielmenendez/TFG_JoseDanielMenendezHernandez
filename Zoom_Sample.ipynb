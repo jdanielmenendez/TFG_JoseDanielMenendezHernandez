{
 "cells": [
  {
   "cell_type": "code",
   "execution_count": 1,
   "metadata": {},
   "outputs": [],
   "source": [
    "import numpy as np\n",
    "from sklearn.datasets import make_regression\n",
    "from sklearn.model_selection import train_test_split\n",
    "from sklearn.linear_model import Ridge, LinearRegression, Lasso\n",
    "from sklearn.metrics import r2_score\n",
    "from statistics import mean\n",
    "import matplotlib.pyplot as plt\n"
   ]
  },
  {
   "cell_type": "markdown",
   "metadata": {},
   "source": [
    "Definimos las constantes"
   ]
  },
  {
   "cell_type": "code",
   "execution_count": 2,
   "metadata": {},
   "outputs": [],
   "source": [
    "# MACROS\n",
    "NDATASETS = 5\n",
    "NSAMPLES = 1\n",
    "NLAMDAS = 40\n",
    "SAMPLE_INDEX = 5"
   ]
  },
  {
   "cell_type": "markdown",
   "metadata": {},
   "source": [
    "Creamos las listas que usaremos a la hora de generar los datos"
   ]
  },
  {
   "cell_type": "code",
   "execution_count": 3,
   "metadata": {},
   "outputs": [],
   "source": [
    "DataMatrix = [ []*2 for i in range(NDATASETS)]\n",
    "matrixDatasetTraintest =  [ []*4 for i in range(NDATASETS)]\n",
    "matrixXYtrainparts =  [[[]*2 for j in range(NSAMPLES)] for i in range(NDATASETS)]"
   ]
  },
  {
   "cell_type": "code",
   "execution_count": 4,
   "metadata": {},
   "outputs": [],
   "source": [
    "for i in range(NDATASETS):\n",
    "    X, y = make_regression(n_samples=10000, n_features=1000, noise=700, n_informative=500)\n",
    "    DataMatrix[i].extend((X, y))"
   ]
  },
  {
   "cell_type": "code",
   "execution_count": 5,
   "metadata": {},
   "outputs": [],
   "source": [
    "for i in range(NDATASETS):\n",
    "    X_train, X_test, y_train, y_test = train_test_split(DataMatrix[i][0], DataMatrix[i][1], random_state=4, test_size=0.6561, shuffle=True)\n",
    "    matrixDatasetTraintest[i].extend((X_train, X_test, y_train, y_test))\n"
   ]
  },
  {
   "cell_type": "code",
   "execution_count": 6,
   "metadata": {},
   "outputs": [
    {
     "data": {
      "text/plain": [
       "[729.0,\n",
       " 853.0,\n",
       " 998.0,\n",
       " 1167.0,\n",
       " 1366.0,\n",
       " 1598.0,\n",
       " 1869.0,\n",
       " 2187.0,\n",
       " 2559.0,\n",
       " 2993.0,\n",
       " 3502.0,\n",
       " 4097.0,\n",
       " 4793.0,\n",
       " 5608.0,\n",
       " 6561.0]"
      ]
     },
     "execution_count": 6,
     "metadata": {},
     "output_type": "execute_result"
    }
   ],
   "source": [
    "listTrainSamples = np.logspace(6, 8, num=15, base=3)\n",
    "listTrainSamples = [round(item, 0) for item in listTrainSamples]\n",
    "listTrainSamples"
   ]
  },
  {
   "cell_type": "code",
   "execution_count": 7,
   "metadata": {},
   "outputs": [],
   "source": [
    "el = listTrainSamples[SAMPLE_INDEX]\n",
    "\n",
    "for i in range(NDATASETS):\n",
    "    XtrainDivided = matrixDatasetTraintest[i][0][0:int(el)]\n",
    "    \n",
    "    YtrainDivided = matrixDatasetTraintest[i][2][0:int(el)]\n",
    "    matrixXYtrainparts[i][0].extend((XtrainDivided, YtrainDivided))"
   ]
  },
  {
   "cell_type": "code",
   "execution_count": 8,
   "metadata": {},
   "outputs": [],
   "source": [
    "alpha_dict ={'alpha':np.logspace(0, 5, num=NLAMDAS, base=10)}"
   ]
  },
  {
   "cell_type": "markdown",
   "metadata": {},
   "source": [
    "<h1>Ridge Regression</h1>"
   ]
  },
  {
   "cell_type": "code",
   "execution_count": 9,
   "metadata": {},
   "outputs": [],
   "source": [
    "ridge_regressors = []\n",
    "#matrixRidgeResults =  [[[[]*2 for i in range(25)] for j in range(NSAMPLES)] for i in range(NDATASETS)]\n",
    "matrixRidgeResults = np.zeros([NDATASETS,NSAMPLES,NLAMDAS,2])\n",
    "\n",
    "\n",
    "# Creamos los diferentes ridge regressors\n",
    "for alpha in alpha_dict.get('alpha'):\n",
    "    ridge_regressors.append(Ridge(alpha=float(alpha)))\n",
    "\n",
    "\n",
    "for i in range(NDATASETS):\n",
    "    for j in range(1):\n",
    "        for idx, ridge_regressor in enumerate(ridge_regressors):\n",
    "            \n",
    "            ridge_regressor.fit(matrixXYtrainparts[i][j][0], matrixXYtrainparts[i][j][1])\n",
    "            y_pred = ridge_regressor.predict(matrixDatasetTraintest[i][1])\n",
    "            \n",
    "            #matrixRidgeResults[i][j][idx].extend((ridge_regressor.alpha, r2_score(matrixDatasetTraintest[i][3], y_pred)))\n",
    "            matrixRidgeResults[i][j][idx][0] = ridge_regressor.alpha\n",
    "            matrixRidgeResults[i][j][idx][1] = r2_score(matrixDatasetTraintest[i][3], y_pred)\n",
    "            \n",
    "            \n",
    "            "
   ]
  },
  {
   "cell_type": "code",
   "execution_count": 10,
   "metadata": {},
   "outputs": [],
   "source": [
    "np.save('matrixRidgeResults_Zoom', matrixRidgeResults)"
   ]
  },
  {
   "cell_type": "code",
   "execution_count": 11,
   "metadata": {},
   "outputs": [],
   "source": [
    "matrixRidgeResults = np.load('matrixRidgeResults_Zoom.npy')"
   ]
  },
  {
   "cell_type": "code",
   "execution_count": 12,
   "metadata": {},
   "outputs": [
    {
     "data": {
      "image/png": "[encoded data removed]",
      "text/plain": [
       "<Figure size 640x480 with 1 Axes>"
      ]
     },
     "metadata": {},
     "output_type": "display_data"
    }
   ],
   "source": [
    "alphas = alpha_dict.get('alpha')\n",
    "\n",
    "#r2_scores = [ []*25 for i in range(NSAMPLES)]\n",
    "r2_scores = np.zeros([NSAMPLES, NLAMDAS])\n",
    "\n",
    "#MatrixRidgeResultsInvertida =  [[[]*2 for j in range(NSAMPLES)] for i in range(25)]\n",
    "MatrixRidgeResultsInvertida = np.zeros([NLAMDAS, NSAMPLES, 2])\n",
    "\n",
    "num_dataset = 2\n",
    "\n",
    "for i_sample in range(NSAMPLES):\n",
    "    for i_alphavalue in range(25):\n",
    "        for i_dataset in range(NDATASETS):\n",
    "            listR2ScoreDataset = []\n",
    "            listR2ScoreDataset.append(matrixRidgeResults[i_dataset][i_sample][i_alphavalue][1])\n",
    "            MatrixRidgeResultsInvertida[i_alphavalue][i_sample][0] = matrixRidgeResults[i_dataset][i_sample][i_alphavalue][0]\n",
    "            MatrixRidgeResultsInvertida[i_alphavalue][i_sample][1] = mean(listR2ScoreDataset)\n",
    "\n",
    "\n",
    "\n",
    "for idx_sample in range(NSAMPLES):\n",
    "    for idx_alphavalue in range(NLAMDAS):\n",
    "        r2_scores[idx_sample][idx_alphavalue] = MatrixRidgeResultsInvertida[idx_alphavalue][idx_sample][1]\n",
    "\n",
    "\n",
    "f, ax = plt.subplots(1)\n",
    "\n",
    "ax.set_ylim(ymin=-1)\n",
    "cm = plt.get_cmap('gist_rainbow')\n",
    "ax.set_prop_cycle('color', [cm(1.*i/15) for i in range(NSAMPLES)])\n",
    "\n",
    "plt.xscale('log')\n",
    "plt.title(\"Ridge Regression\")\n",
    "plt.xlabel(\"Lamda Values\")\n",
    "plt.ylabel(\"R2 Score\")\n",
    "for i_sample in range(NSAMPLES):\n",
    "    plt.plot(alphas, r2_scores[i_sample], label = \"Sample \" + str(SAMPLE_INDEX))\n",
    "    maxValue = np.amax(r2_scores[i_sample])\n",
    "    i_maxValue = np.where(r2_scores[i_sample] == maxValue)\n",
    "    plt.plot(alphas[i_maxValue], maxValue, marker = \"o\", markeredgecolor = \"black\", markerfacecolor=\"white\")\n",
    "plt.legend(loc=(1.04, 0))\n",
    "plt.show(f)"
   ]
  },
  {
   "cell_type": "code",
   "execution_count": null,
   "metadata": {},
   "outputs": [],
   "source": []
  },
  {
   "cell_type": "markdown",
   "metadata": {},
   "source": [
    "<h1> Lasso Regression </h1>\n"
   ]
  },
  {
   "cell_type": "code",
   "execution_count": 13,
   "metadata": {},
   "outputs": [
    {
     "name": "stdout",
     "output_type": "stream",
     "text": [
      "[[[array([[-0.5980842 ,  0.78094367, -0.95009868, ...,  0.30808231,\n",
      "        -1.63243206,  1.51772129],\n",
      "       [-1.11198084,  0.42528125, -0.47220629, ..., -1.55640398,\n",
      "        -0.30674758, -1.26545407],\n",
      "       [-1.11950782,  0.63833748,  0.26240535, ...,  0.0077113 ,\n",
      "         0.44395332, -0.97859419],\n",
      "       ...,\n",
      "       [ 0.75136778, -1.15791002, -0.99170154, ..., -2.16061941,\n",
      "        -0.15535583, -0.50406603],\n",
      "       [-0.56555353, -0.81767817,  0.31417885, ...,  0.89222032,\n",
      "         0.17993389, -1.15062402],\n",
      "       [-0.85867551, -0.61219021, -0.66345694, ..., -0.19872658,\n",
      "        -0.22722918,  1.80887961]]), array([ -285.23814457,  -432.49242678, -2386.85980089, ...,\n",
      "        1435.26594331,  -561.52047382,  -539.73906209])]], [[array([[-0.81323057,  0.23529433,  0.0263916 , ...,  0.48101146,\n",
      "         0.85044454, -0.3764849 ],\n",
      "       [ 0.03814857, -0.61609593, -0.77067327, ..., -0.55167725,\n",
      "         0.89843923,  0.05628498],\n",
      "       [ 2.12709592,  0.38542397, -1.15191253, ...,  0.68130785,\n",
      "        -0.2290628 , -0.3769084 ],\n",
      "       ...,\n",
      "       [-0.0822408 ,  0.62672692, -0.151554  , ...,  0.93451213,\n",
      "         1.35592423, -0.81353825],\n",
      "       [-1.03903969,  0.67417543, -0.06838937, ..., -1.78244201,\n",
      "        -0.32397781,  0.76359189],\n",
      "       [-0.56939288,  0.33267744, -0.15341575, ..., -0.659701  ,\n",
      "        -0.04700013, -0.33671662]]), array([  682.00041375,  3751.93470521,  -660.67026911, ...,\n",
      "         648.0094048 ,  -557.60604323, -1519.53995373])]], [[array([[-2.31259385, -0.91078711, -0.39133019, ...,  1.71957896,\n",
      "         0.5098048 , -1.16153219],\n",
      "       [-1.75281393, -0.37059752, -1.48770066, ...,  0.36175846,\n",
      "         0.05645297, -1.52051695],\n",
      "       [ 0.04684449, -1.10910113, -0.42167172, ...,  2.11459826,\n",
      "         0.90392699, -0.65949752],\n",
      "       ...,\n",
      "       [ 0.2615372 , -0.07697752,  0.70662019, ..., -1.70646713,\n",
      "        -0.13182617,  0.29668002],\n",
      "       [ 0.63840715,  0.31791428,  0.11206927, ..., -0.87469268,\n",
      "         1.04907292,  0.58411835],\n",
      "       [-0.37520236, -1.61026169, -0.80328398, ...,  0.16997045,\n",
      "         0.58351746, -0.96436444]]), array([-3.42367160e-01,  9.80478288e+01, -9.04157738e+02, ...,\n",
      "        2.03515075e+03,  8.33146248e+02,  5.48985249e+02])]], [[array([[ 1.13336669,  1.54992623,  1.69100589, ...,  0.54133606,\n",
      "         1.63413906,  0.62843078],\n",
      "       [-0.18103965, -0.51655554,  1.06854762, ...,  0.44311064,\n",
      "        -0.21178918,  1.08118292],\n",
      "       [-0.01678783, -2.60712087, -1.55446908, ..., -1.18050057,\n",
      "         1.14636924,  0.04412588],\n",
      "       ...,\n",
      "       [-0.66960645,  0.35365235, -0.41916852, ...,  1.59345666,\n",
      "        -0.80716881,  1.08134693],\n",
      "       [ 0.41524524,  2.47568534, -1.41399248, ...,  0.60519693,\n",
      "        -1.57387037,  0.75568195],\n",
      "       [-0.66138594,  0.87492533,  0.43751295, ..., -0.52931672,\n",
      "        -0.49128298,  2.06806808]]), array([  346.20236239,   802.75753186,  -624.3137309 , ...,\n",
      "        2207.31075587,   469.55169526, -2631.6257469 ])]], [[array([[ 0.96169849,  1.49981725, -0.27928468, ..., -0.36241717,\n",
      "         1.44195723,  1.26140414],\n",
      "       [-0.57198225, -0.25127924, -0.83368527, ..., -0.73476943,\n",
      "         0.52637284, -1.53522983],\n",
      "       [ 1.31438443,  0.92904546,  0.54935395, ..., -0.25596755,\n",
      "         0.78994359,  1.36241192],\n",
      "       ...,\n",
      "       [ 0.92693938, -0.90539146,  0.36485497, ...,  0.82144269,\n",
      "         1.77789508,  0.11043556],\n",
      "       [-0.81972089, -0.54265575, -0.46129563, ..., -1.46569237,\n",
      "        -0.00695208, -0.36235668],\n",
      "       [ 0.08663455, -1.81024954,  0.98641973, ...,  0.04180352,\n",
      "         0.02959222, -1.21204081]]), array([  365.65359709, -1539.7277133 ,   -47.04011184, ...,\n",
      "        1632.88648585, -1815.79867715,  -612.4800072 ])]]]\n"
     ]
    }
   ],
   "source": [
    "print(matrixXYtrainparts)"
   ]
  },
  {
   "cell_type": "code",
   "execution_count": 14,
   "metadata": {},
   "outputs": [],
   "source": [
    "lasso_regressors = []\n",
    "#matrixRidgeResults =  [[[[]*2 for i in range(25)] for j in range(NSAMPLES)] for i in range(NDATASETS)]\n",
    "matrixLassoResults = np.zeros([NDATASETS,NSAMPLES,NLAMDAS,2])\n",
    "\n",
    "\n",
    "# Creamos los diferentes ridge regressors\n",
    "for alpha in alpha_dict.get('alpha'):\n",
    "    lasso_regressors.append(Lasso(alpha=float(alpha)))\n",
    "\n",
    "\n",
    "for i in range(NDATASETS):\n",
    "    for j in range(1):\n",
    "        for idx, lasso_regressor in enumerate(lasso_regressors):\n",
    "            lasso_regressor.fit(matrixXYtrainparts[i][j][0], matrixXYtrainparts[i][j][1])\n",
    "            y_pred = lasso_regressor.predict(matrixDatasetTraintest[i][1])\n",
    "            \n",
    "            matrixLassoResults[i][j][idx][0] = lasso_regressor.alpha\n",
    "            matrixLassoResults[i][j][idx][1] = r2_score(matrixDatasetTraintest[i][3], y_pred)"
   ]
  },
  {
   "cell_type": "code",
   "execution_count": 15,
   "metadata": {},
   "outputs": [],
   "source": [
    "np.save('matrixLassoResults_Zoom', matrixLassoResults)"
   ]
  },
  {
   "cell_type": "code",
   "execution_count": 16,
   "metadata": {},
   "outputs": [],
   "source": [
    "matrixLassoResults = np.load('matrixLassoResults_Zoom.npy')"
   ]
  },
  {
   "cell_type": "code",
   "execution_count": 17,
   "metadata": {},
   "outputs": [
    {
     "data": {
      "image/png": "[encoded data removed]",
      "text/plain": [
       "<Figure size 640x480 with 1 Axes>"
      ]
     },
     "metadata": {},
     "output_type": "display_data"
    }
   ],
   "source": [
    "alphas = alpha_dict.get('alpha')\n",
    "\n",
    "#r2_scores = [ []*25 for i in range(NSAMPLES)]\n",
    "r2_scores = np.zeros([NSAMPLES, NLAMDAS])\n",
    "\n",
    "#MatrixRidgeResultsInvertida =  [[[]*2 for j in range(NSAMPLES)] for i in range(25)]\n",
    "MatrixLassoResultsInvertida = np.zeros([NLAMDAS, NSAMPLES, 2])\n",
    "\n",
    "matrixXYtrainparts =  [[[]*2 for j in range(NSAMPLES)] for i in range(NDATASETS)]\n",
    "num_dataset = 2\n",
    "\n",
    "for i_sample in range(NSAMPLES):\n",
    "    for i_alphavalue in range(25):\n",
    "        for i_dataset in range(NDATASETS):\n",
    "            listR2ScoreDataset = []\n",
    "            listR2ScoreDataset.append(matrixLassoResults[i_dataset][i_sample][i_alphavalue][1])\n",
    "            MatrixLassoResultsInvertida[i_alphavalue][i_sample][0] = matrixLassoResults[i_dataset][i_sample][i_alphavalue][0]\n",
    "            MatrixLassoResultsInvertida[i_alphavalue][i_sample][1] = mean(listR2ScoreDataset)\n",
    "\n",
    "\n",
    "\n",
    "for idx_sample in range(NSAMPLES):\n",
    "    for idx_alphavalue in range(NLAMDAS):\n",
    "        r2_scores[idx_sample][idx_alphavalue] = MatrixLassoResultsInvertida[idx_alphavalue][idx_sample][1]\n",
    "\n",
    "\n",
    "f, ax = plt.subplots(1)\n",
    "\n",
    "ax.set_ylim(ymin=-1)\n",
    "cm = plt.get_cmap('gist_rainbow')\n",
    "ax.set_prop_cycle('color', [cm(1.*i/15) for i in range(NSAMPLES)])\n",
    "\n",
    "plt.xscale('log')\n",
    "plt.title(\"Lasso Regression\")\n",
    "plt.xlabel(\"Lamda Values\")\n",
    "plt.ylabel(\"R2 Score\")\n",
    "for i_sample in range(NSAMPLES):\n",
    "    plt.plot(alphas, r2_scores[i_sample], label = \"Sample \" + str(SAMPLE_INDEX-1))\n",
    "    maxValue = np.amax(r2_scores[i_sample])\n",
    "    i_maxValue = np.where(r2_scores[i_sample] == maxValue)\n",
    "    plt.plot(alphas[i_maxValue], maxValue, marker = \"o\", markeredgecolor = \"black\", markerfacecolor=\"white\")\n",
    "plt.legend(loc=(1.04, 0))\n",
    "plt.show(f)"
   ]
  }
 ],
 "metadata": {
  "kernelspec": {
   "display_name": "Python 3.9.13 ('codigo-env': venv)",
   "language": "python",
   "name": "python3"
  },
  "language_info": {
   "codemirror_mode": {
    "name": "ipython",
    "version": 3
   },
   "file_extension": ".py",
   "mimetype": "text/x-python",
   "name": "python",
   "nbconvert_exporter": "python",
   "pygments_lexer": "ipython3",
   "version": "3.9.13"
  },
  "orig_nbformat": 4,
  "vscode": {
   "interpreter": {
    "hash": "ea3fcb7f78e3e81f9c5511b3ef6fc2341d7da8dfc3b5e430e94b390ce62f6581"
   }
  }
 },
 "nbformat": 4,
 "nbformat_minor": 2
}
