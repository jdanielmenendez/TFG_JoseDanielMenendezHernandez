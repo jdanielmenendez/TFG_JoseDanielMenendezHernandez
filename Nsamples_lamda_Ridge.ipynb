{
 "cells": [
  {
   "cell_type": "code",
   "execution_count": 1,
   "metadata": {},
   "outputs": [],
   "source": [
    "import numpy as np\n",
    "from sklearn.datasets import make_regression\n",
    "from sklearn.model_selection import train_test_split\n",
    "from sklearn.linear_model import Ridge\n",
    "from sklearn.metrics import r2_score\n",
    "from statistics import mean\n",
    "import matplotlib.pyplot as plt"
   ]
  },
  {
   "cell_type": "markdown",
   "metadata": {},
   "source": [
    "Definimos las constantes"
   ]
  },
  {
   "cell_type": "code",
   "execution_count": 2,
   "metadata": {},
   "outputs": [],
   "source": [
    "# MACROS\n",
    "NDATASETS = 10\n",
    "NSAMPLES = 50\n",
    "NLAMDAS = 40"
   ]
  },
  {
   "cell_type": "markdown",
   "metadata": {},
   "source": [
    "Creamos las listas que usaremos a la hora de generar los datos"
   ]
  },
  {
   "cell_type": "code",
   "execution_count": 3,
   "metadata": {},
   "outputs": [],
   "source": [
    "DataMatrix = [ []*2 for i in range(NDATASETS)]\n",
    "matrixDatasetTraintest =  [ []*4 for i in range(NDATASETS)]\n",
    "matrixXYtrainparts =  [[[]*2 for j in range(NSAMPLES)] for i in range(NDATASETS)]"
   ]
  },
  {
   "cell_type": "code",
   "execution_count": 4,
   "metadata": {},
   "outputs": [],
   "source": [
    "for i in range(NDATASETS):\n",
    "    X, y = make_regression(n_samples=10000, n_features=1000, noise=400)\n",
    "    DataMatrix[i].extend((X, y))"
   ]
  },
  {
   "cell_type": "code",
   "execution_count": 5,
   "metadata": {},
   "outputs": [],
   "source": [
    "for i in range(NDATASETS):\n",
    "    X_train, X_test, y_train, y_test = train_test_split(DataMatrix[i][0], DataMatrix[i][1], random_state=4, test_size=0.6561, shuffle=True)\n",
    "    matrixDatasetTraintest[i].extend((X_train, X_test, y_train, y_test))"
   ]
  },
  {
   "cell_type": "code",
   "execution_count": 6,
   "metadata": {},
   "outputs": [],
   "source": [
    "listTrainSamples = np.logspace(6, 8, num=NSAMPLES, base=3)\n",
    "listTrainSamples = [round(item, 0) for item in listTrainSamples]"
   ]
  },
  {
   "cell_type": "code",
   "execution_count": 7,
   "metadata": {},
   "outputs": [],
   "source": [
    "for i in range(NDATASETS):\n",
    "    for idx, el in enumerate(listTrainSamples):\n",
    "        XtrainDivided = matrixDatasetTraintest[i][0][0:int(el)]\n",
    "        \n",
    "        YtrainDivided = matrixDatasetTraintest[i][2][0:int(el)]\n",
    "        matrixXYtrainparts[i][idx].extend((XtrainDivided, YtrainDivided))"
   ]
  },
  {
   "cell_type": "code",
   "execution_count": 8,
   "metadata": {},
   "outputs": [],
   "source": [
    "alpha_dict ={'alpha':np.logspace(0, 4, num=NLAMDAS, base=10)}"
   ]
  },
  {
   "cell_type": "markdown",
   "metadata": {},
   "source": [
    "<h1>Ridge Regression</h1>"
   ]
  },
  {
   "cell_type": "code",
   "execution_count": 9,
   "metadata": {},
   "outputs": [],
   "source": [
    "ridge_regressors = []\n",
    "matrixRidgeResults = np.zeros([NDATASETS,NSAMPLES,NLAMDAS,2])\n",
    "\n",
    "\n",
    "# Creamos los diferentes ridge regressors\n",
    "for alpha in alpha_dict.get('alpha'):\n",
    "    ridge_regressors.append(Ridge(alpha=float(alpha)))\n",
    "\n",
    "\n",
    "for i in range(NDATASETS):\n",
    "    for j in range(len(listTrainSamples)):\n",
    "        for idx, ridge_regressor in enumerate(ridge_regressors):\n",
    "            ridge_regressor.fit(matrixXYtrainparts[i][j][0], matrixXYtrainparts[i][j][1])\n",
    "            y_pred = ridge_regressor.predict(matrixDatasetTraintest[i][1])\n",
    "            \n",
    "            matrixRidgeResults[i][j][idx][0] = ridge_regressor.alpha\n",
    "            matrixRidgeResults[i][j][idx][1] = r2_score(matrixDatasetTraintest[i][3], y_pred)"
   ]
  },
  {
   "cell_type": "code",
   "execution_count": 10,
   "metadata": {},
   "outputs": [],
   "source": [
    "np.save('matrixRidgeResults_NSamples', matrixRidgeResults)"
   ]
  },
  {
   "cell_type": "code",
   "execution_count": 11,
   "metadata": {},
   "outputs": [],
   "source": [
    "matrixRidgeResults = np.load('matrixRidgeResults_NSamples.npy')"
   ]
  },
  {
   "cell_type": "code",
   "execution_count": 19,
   "metadata": {},
   "outputs": [
    {
     "data": {
      "image/png": "[encoded data removed]",
      "text/plain": [
       "<Figure size 640x480 with 1 Axes>"
      ]
     },
     "metadata": {},
     "output_type": "display_data"
    }
   ],
   "source": [
    "alphas = alpha_dict.get('alpha')\n",
    "\n",
    "#r2_scores = [ []*25 for i in range(NSAMPLES)]\n",
    "r2_scores = np.zeros([NSAMPLES, NLAMDAS])\n",
    "\n",
    "#MatrixRidgeResultsInvertida =  [[[]*2 for j in range(NSAMPLES)] for i in range(25)]\n",
    "MatrixRidgeResultsInvertida = np.zeros([NLAMDAS, NSAMPLES, 2])\n",
    "\n",
    "\n",
    "for i_sample in range(NSAMPLES):\n",
    "    for i_alphavalue in range(25):\n",
    "        for i_dataset in range(NDATASETS):\n",
    "            listR2ScoreDataset = []\n",
    "            listR2ScoreDataset.append(matrixRidgeResults[i_dataset][i_sample][i_alphavalue][1])\n",
    "            MatrixRidgeResultsInvertida[i_alphavalue][i_sample][0] = matrixRidgeResults[i_dataset][i_sample][i_alphavalue][0]\n",
    "            MatrixRidgeResultsInvertida[i_alphavalue][i_sample][1] = mean(listR2ScoreDataset)\n",
    "\n",
    "\n",
    "\n",
    "for idx_sample in range(NSAMPLES):\n",
    "    for idx_alphavalue in range(NLAMDAS):\n",
    "        r2_scores[idx_sample][idx_alphavalue] = MatrixRidgeResultsInvertida[idx_alphavalue][idx_sample][1]\n",
    "\n",
    "\n",
    "f, ax = plt.subplots(1)\n",
    "\n",
    "plt.ylim([729,7000])\n",
    "plt.xscale('log')\n",
    "plt.yscale('log')\n",
    "plt.title(\"Ridge Regression\")\n",
    "plt.xlabel(\"Optimal Lamda\")\n",
    "plt.ylabel(\"N Samples\")\n",
    "for i_sample in range(NSAMPLES):\n",
    "    plt.plot(alphas, r2_scores[i_sample])\n",
    "    maxValue = np.amax(r2_scores[i_sample])\n",
    "    i_maxValue = np.where(r2_scores[i_sample] == maxValue)\n",
    "    plt.plot(alphas[i_maxValue][0], listTrainSamples[i_sample], marker = \"o\", markeredgecolor = \"black\", markerfacecolor=\"white\")\n",
    "plt.show(f)"
   ]
  }
 ],
 "metadata": {
  "kernelspec": {
   "display_name": "Python 3.9.13 ('codigo-env': venv)",
   "language": "python",
   "name": "python3"
  },
  "language_info": {
   "codemirror_mode": {
    "name": "ipython",
    "version": 3
   },
   "file_extension": ".py",
   "mimetype": "text/x-python",
   "name": "python",
   "nbconvert_exporter": "python",
   "pygments_lexer": "ipython3",
   "version": "3.9.13"
  },
  "orig_nbformat": 4,
  "vscode": {
   "interpreter": {
    "hash": "ea3fcb7f78e3e81f9c5511b3ef6fc2341d7da8dfc3b5e430e94b390ce62f6581"
   }
  }
 },
 "nbformat": 4,
 "nbformat_minor": 2
}
