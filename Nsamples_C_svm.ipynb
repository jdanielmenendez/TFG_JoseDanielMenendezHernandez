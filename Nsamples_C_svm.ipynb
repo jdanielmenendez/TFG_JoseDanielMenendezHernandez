{
 "cells": [
  {
   "cell_type": "code",
   "execution_count": 1,
   "metadata": {},
   "outputs": [],
   "source": [
    "import importlib\n",
    "\n",
    "import numpy as np\n",
    "from sklearn.linear_model import Ridge, LinearRegression, Lasso\n",
    "from sklearn.svm import SVR\n",
    "from sklearn.metrics import r2_score\n",
    "from statistics import mean\n",
    "import matplotlib.pyplot as plt\n",
    "from sklearn.datasets import make_friedman1\n",
    "import aux_Func as aux_Func\n",
    "from sklearn.model_selection import train_test_split"
   ]
  },
  {
   "cell_type": "markdown",
   "metadata": {},
   "source": [
    "Definimos las constantes"
   ]
  },
  {
   "cell_type": "code",
   "execution_count": 2,
   "metadata": {},
   "outputs": [],
   "source": [
    "# MACROS\n",
    "NDATASETS = 50\n",
    "N_TRAIN_SAMPLES = 15\n",
    "NCVALUES = 20"
   ]
  },
  {
   "cell_type": "markdown",
   "metadata": {},
   "source": [
    "Creamos las listas que usaremos a la hora de generar los datos"
   ]
  },
  {
   "cell_type": "code",
   "execution_count": 3,
   "metadata": {},
   "outputs": [],
   "source": [
    "DataMatrix = [ []*2 for i in range(NDATASETS)]\n",
    "matrixDatasetTraintest =  [ []*4 for i in range(NDATASETS)]\n",
    "matrixXYtrainparts =  [[[]*2 for j in range(N_TRAIN_SAMPLES)] for i in range(NDATASETS)]"
   ]
  },
  {
   "cell_type": "code",
   "execution_count": 4,
   "metadata": {},
   "outputs": [
    {
     "data": {
      "text/plain": [
       "{'c_value': array([  0.5       ,   0.66945205,   0.8963321 ,   1.20010272,\n",
       "          1.60682245,   2.15138117,   2.88049308,   3.85670399,\n",
       "          5.16375679,   6.91377515,   9.2568819 ,  12.39407714,\n",
       "         16.59448071,  22.21841828,  29.74833136,  39.83016286,\n",
       "         53.32876841,  71.40210674,  95.60057355, 128.        ])}"
      ]
     },
     "execution_count": 4,
     "metadata": {},
     "output_type": "execute_result"
    }
   ],
   "source": [
    "c_dict ={'c_value':np.logspace(-1, 7, num=NCVALUES, base=2)}\n",
    "c_dict"
   ]
  },
  {
   "cell_type": "code",
   "execution_count": 5,
   "metadata": {},
   "outputs": [
    {
     "data": {
      "text/plain": [
       "[16.0,\n",
       " 19.0,\n",
       " 22.0,\n",
       " 25.0,\n",
       " 29.0,\n",
       " 34.0,\n",
       " 39.0,\n",
       " 45.0,\n",
       " 53.0,\n",
       " 61.0,\n",
       " 71.0,\n",
       " 82.0,\n",
       " 95.0,\n",
       " 110.0,\n",
       " 128.0]"
      ]
     },
     "execution_count": 5,
     "metadata": {},
     "output_type": "execute_result"
    }
   ],
   "source": [
    "listTrainSamples = np.logspace(4, 7, num=N_TRAIN_SAMPLES, base=2)\n",
    "listTrainSamples = [round(item, 0) for item in listTrainSamples]\n",
    "listTrainSamples"
   ]
  },
  {
   "attachments": {},
   "cell_type": "markdown",
   "metadata": {},
   "source": [
    "<h1> SVM </h1>\n"
   ]
  },
  {
   "cell_type": "code",
   "execution_count": 6,
   "metadata": {},
   "outputs": [],
   "source": [
    "listmatrixSVMResults = []\n",
    "\n",
    "for i in range(91):\n",
    "    listmatrixSVMResults.append(np.load('matrices/matrixSVMResults'+str(i)+'.npy'))"
   ]
  },
  {
   "cell_type": "code",
   "execution_count": 7,
   "metadata": {},
   "outputs": [],
   "source": [
    "c_values = c_dict.get('c_value')"
   ]
  },
  {
   "cell_type": "code",
   "execution_count": 8,
   "metadata": {},
   "outputs": [],
   "source": [
    "c_values = c_dict.get('c_value')\n",
    "\n",
    "#r2_scores = [ []*25 for i in range(NSAMPLES)]\n",
    "r2_scores = np.zeros([N_TRAIN_SAMPLES, NCVALUES])\n",
    "\n",
    "#MatrixRidgeResultsInvertida =  [[[]*2 for j in range(NSAMPLES)] for i in range(25)]\n",
    "MatrixSVMResultsInvertida = np.zeros([NCVALUES, N_TRAIN_SAMPLES, 2])\n",
    "listMatrixSVMResultsInvertida = []\n",
    "num_dataset = 2\n",
    "\n",
    "for i_sample in range(N_TRAIN_SAMPLES):\n",
    "    for i_alphavalue in range(NCVALUES):\n",
    "        for i_dataset in range(NDATASETS):\n",
    "            for matrixSVMResults in listmatrixSVMResults:\n",
    "                listR2ScoreDataset = []\n",
    "                listR2ScoreDataset.append(matrixSVMResults[i_dataset][i_sample][i_alphavalue][1])\n",
    "                MatrixSVMResultsInvertida[i_alphavalue][i_sample][0] = matrixSVMResults[i_dataset][i_sample][i_alphavalue][0]\n",
    "                MatrixSVMResultsInvertida[i_alphavalue][i_sample][1] = mean(listR2ScoreDataset)\n",
    "                listMatrixSVMResultsInvertida.append(MatrixSVMResultsInvertida)\n",
    "\n",
    "\n",
    "\n",
    "for idx_sample in range(N_TRAIN_SAMPLES):\n",
    "    for idx_alphavalue in range(NCVALUES):\n",
    "        list_r2_score = []\n",
    "        for MatrixSVMResultsInvertida in listMatrixSVMResultsInvertida:\n",
    "            list_r2_score.append(MatrixSVMResultsInvertida[idx_alphavalue][idx_sample][1])\n",
    "        \n",
    "        r2_scores[idx_sample][idx_alphavalue] = mean(list_r2_score)\n",
    "\n",
    "\n"
   ]
  },
  {
   "cell_type": "code",
   "execution_count": 9,
   "metadata": {},
   "outputs": [
    {
     "data": {
      "text/plain": [
       "array([  0.5       ,   0.66945205,   0.8963321 ,   1.20010272,\n",
       "         1.60682245,   2.15138117,   2.88049308,   3.85670399,\n",
       "         5.16375679,   6.91377515,   9.2568819 ,  12.39407714,\n",
       "        16.59448071,  22.21841828,  29.74833136,  39.83016286,\n",
       "        53.32876841,  71.40210674,  95.60057355, 128.        ])"
      ]
     },
     "execution_count": 9,
     "metadata": {},
     "output_type": "execute_result"
    }
   ],
   "source": [
    "c_values"
   ]
  },
  {
   "cell_type": "code",
   "execution_count": 10,
   "metadata": {},
   "outputs": [
    {
     "name": "stdout",
     "output_type": "stream",
     "text": [
      "12.394077138133248\n",
      "16.0\n",
      "9.256881898261756\n",
      "19.0\n",
      "12.394077138133248\n",
      "22.0\n",
      "12.394077138133248\n",
      "25.0\n",
      "16.59448071113907\n",
      "29.0\n",
      "16.59448071113907\n",
      "34.0\n",
      "16.59448071113907\n",
      "39.0\n",
      "12.394077138133248\n",
      "45.0\n",
      "16.59448071113907\n",
      "53.0\n",
      "12.394077138133248\n",
      "61.0\n",
      "16.59448071113907\n",
      "71.0\n",
      "16.59448071113907\n",
      "82.0\n",
      "22.218418281834488\n",
      "95.0\n",
      "29.748331360268995\n",
      "110.0\n",
      "53.328768409506836\n",
      "128.0\n"
     ]
    },
    {
     "data": {
      "image/png": "[encoded data removed]",
      "text/plain": [
       "<Figure size 640x480 with 1 Axes>"
      ]
     },
     "metadata": {},
     "output_type": "display_data"
    }
   ],
   "source": [
    "f, ax = plt.subplots(1)\n",
    "\n",
    "\n",
    "plt.ylim([0,150])\n",
    "plt.xscale('log')\n",
    "plt.title(\"SVM\")\n",
    "plt.xlabel(\"Optimal Lamda\")\n",
    "plt.ylabel(\"N Patrones\")\n",
    "for i_sample in range(N_TRAIN_SAMPLES):\n",
    "    plt.plot(c_values, r2_scores[i_sample])\n",
    "    maxValue = np.amax(r2_scores[i_sample])\n",
    "    i_maxValue = np.where(r2_scores[i_sample] == maxValue)\n",
    "    print(c_values[i_maxValue][0])\n",
    "    print(listTrainSamples[i_sample])\n",
    "    plt.plot(c_values[i_maxValue][0], listTrainSamples[i_sample], marker = \"o\", markeredgecolor = \"black\", markerfacecolor=\"white\")\n",
    "plt.show(f)\n",
    "\n"
   ]
  }
 ],
 "metadata": {
  "kernelspec": {
   "display_name": "Python 3.9.13 ('codigo-env': venv)",
   "language": "python",
   "name": "python3"
  },
  "language_info": {
   "codemirror_mode": {
    "name": "ipython",
    "version": 3
   },
   "file_extension": ".py",
   "mimetype": "text/x-python",
   "name": "python",
   "nbconvert_exporter": "python",
   "pygments_lexer": "ipython3",
   "version": "3.9.13"
  },
  "orig_nbformat": 4,
  "vscode": {
   "interpreter": {
    "hash": "ea3fcb7f78e3e81f9c5511b3ef6fc2341d7da8dfc3b5e430e94b390ce62f6581"
   }
  }
 },
 "nbformat": 4,
 "nbformat_minor": 2
}
